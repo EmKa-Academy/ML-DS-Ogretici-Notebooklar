{
 "cells": [
  {
   "cell_type": "markdown",
   "metadata": {},
   "source": [
    "## Hazırlayan: https://github.com/Frightera\n",
    "\n",
    "# Makine Öğrenmesinde Veri Sızıntısı (Data Leakage) Nedir?\n",
    "\n",
    "Data Leakage, eğitim veri seti dışındaki bilginin modelin oluşturulması sırasında kullanılması durumunda ortaya çıkar. Bu, modele ek bir bilgi sağlayabilir ve aslında bu ek bilginin model tarafından bilinmemesi gerekir. Neticede model öğrenmemesi gerektiği bir özellik öğrendiğinde bu modelin performansını çok kolay bir şekilde geçersiz kılabilir.\"\n",
    "\n",
    "Yani yapılan bu hata (Data Leakage), aşırı iyimser veya gerçek hayatta bir işe yaramayacak modeller oluşturmanıza neden olabilir.\n",
    "\n",
    "## İçindekiler\n",
    "#### Kütüphanelerin Import Edilmesi\n",
    "#### Verinin Okunması\n",
    "#### Pipeline İçin Sütunların Belirlenmesi\n",
    "#### Hatalı Pipeline - Data Leak Gösterimi\n",
    "#### Doğru Pipeline Kurma - Pipeline Object\n",
    "#### Aynı Adımlar fakat Pipeline Class'ı Olmadan"
   ]
  },
  {
   "cell_type": "markdown",
   "metadata": {},
   "source": [
    "## Kütüphanelerin Import Edilmesi"
   ]
  },
  {
   "cell_type": "code",
   "execution_count": 1,
   "metadata": {
    "scrolled": false
   },
   "outputs": [
    {
     "name": "stdout",
     "output_type": "stream",
     "text": [
      "pandas 1.4.3\n",
      "numpy 1.22.4\n",
      "sklearn 1.1.2\n",
      "seaborn 0.12.2\n",
      "matplotlib 3.5.3\n",
      "imblearn 0.10.1\n"
     ]
    }
   ],
   "source": [
    "import numpy as np\n",
    "import pandas as pd\n",
    "pd.options.mode.chained_assignment = None\n",
    "\n",
    "import matplotlib as mpl\n",
    "import seaborn as sns\n",
    "\n",
    "plt = mpl.pyplot\n",
    "\n",
    "import sklearn\n",
    "import imblearn as imb\n",
    "\n",
    "from sklearn.metrics import confusion_matrix, classification_report, f1_score\n",
    "from sklearn.model_selection import StratifiedKFold, train_test_split, cross_val_score\n",
    "\n",
    "\n",
    "from sklearn.preprocessing import OrdinalEncoder, OneHotEncoder, LabelEncoder, \\\n",
    "                                  RobustScaler, FunctionTransformer\n",
    "from sklearn.impute import SimpleImputer\n",
    "\n",
    "from sklearn.pipeline import Pipeline\n",
    "from sklearn.compose import ColumnTransformer\n",
    "\n",
    "from sklearn.svm import SVC as Model\n",
    "\n",
    "from imblearn.pipeline import Pipeline as imbalancedPipeline\n",
    "from imblearn.over_sampling import SMOTE\n",
    "\n",
    "for lib in [pd, np, sklearn, sns, mpl, imb]:\n",
    "    print(lib.__name__, lib.__version__)"
   ]
  },
  {
   "cell_type": "markdown",
   "metadata": {},
   "source": [
    "## Verinin Okunması\n",
    "Veri linki: https://www.kaggle.com/datasets/fedesoriano/stroke-prediction-dataset"
   ]
  },
  {
   "cell_type": "code",
   "execution_count": 2,
   "metadata": {},
   "outputs": [
    {
     "data": {
      "text/html": [
       "<div>\n",
       "<style scoped>\n",
       "    .dataframe tbody tr th:only-of-type {\n",
       "        vertical-align: middle;\n",
       "    }\n",
       "\n",
       "    .dataframe tbody tr th {\n",
       "        vertical-align: top;\n",
       "    }\n",
       "\n",
       "    .dataframe thead th {\n",
       "        text-align: right;\n",
       "    }\n",
       "</style>\n",
       "<table border=\"1\" class=\"dataframe\">\n",
       "  <thead>\n",
       "    <tr style=\"text-align: right;\">\n",
       "      <th></th>\n",
       "      <th>gender</th>\n",
       "      <th>age</th>\n",
       "      <th>hypertension</th>\n",
       "      <th>heart_disease</th>\n",
       "      <th>ever_married</th>\n",
       "      <th>work_type</th>\n",
       "      <th>Residence_type</th>\n",
       "      <th>avg_glucose_level</th>\n",
       "      <th>bmi</th>\n",
       "      <th>smoking_status</th>\n",
       "      <th>stroke</th>\n",
       "    </tr>\n",
       "  </thead>\n",
       "  <tbody>\n",
       "    <tr>\n",
       "      <th>0</th>\n",
       "      <td>Male</td>\n",
       "      <td>67.0</td>\n",
       "      <td>0</td>\n",
       "      <td>1</td>\n",
       "      <td>Yes</td>\n",
       "      <td>Private</td>\n",
       "      <td>Urban</td>\n",
       "      <td>228.69</td>\n",
       "      <td>36.6</td>\n",
       "      <td>formerly smoked</td>\n",
       "      <td>1</td>\n",
       "    </tr>\n",
       "    <tr>\n",
       "      <th>1</th>\n",
       "      <td>Female</td>\n",
       "      <td>61.0</td>\n",
       "      <td>0</td>\n",
       "      <td>0</td>\n",
       "      <td>Yes</td>\n",
       "      <td>Self-employed</td>\n",
       "      <td>Rural</td>\n",
       "      <td>202.21</td>\n",
       "      <td>NaN</td>\n",
       "      <td>never smoked</td>\n",
       "      <td>1</td>\n",
       "    </tr>\n",
       "    <tr>\n",
       "      <th>2</th>\n",
       "      <td>Male</td>\n",
       "      <td>80.0</td>\n",
       "      <td>0</td>\n",
       "      <td>1</td>\n",
       "      <td>Yes</td>\n",
       "      <td>Private</td>\n",
       "      <td>Rural</td>\n",
       "      <td>105.92</td>\n",
       "      <td>32.5</td>\n",
       "      <td>never smoked</td>\n",
       "      <td>1</td>\n",
       "    </tr>\n",
       "    <tr>\n",
       "      <th>3</th>\n",
       "      <td>Female</td>\n",
       "      <td>49.0</td>\n",
       "      <td>0</td>\n",
       "      <td>0</td>\n",
       "      <td>Yes</td>\n",
       "      <td>Private</td>\n",
       "      <td>Urban</td>\n",
       "      <td>171.23</td>\n",
       "      <td>34.4</td>\n",
       "      <td>smokes</td>\n",
       "      <td>1</td>\n",
       "    </tr>\n",
       "    <tr>\n",
       "      <th>4</th>\n",
       "      <td>Female</td>\n",
       "      <td>79.0</td>\n",
       "      <td>1</td>\n",
       "      <td>0</td>\n",
       "      <td>Yes</td>\n",
       "      <td>Self-employed</td>\n",
       "      <td>Rural</td>\n",
       "      <td>174.12</td>\n",
       "      <td>24.0</td>\n",
       "      <td>never smoked</td>\n",
       "      <td>1</td>\n",
       "    </tr>\n",
       "  </tbody>\n",
       "</table>\n",
       "</div>"
      ],
      "text/plain": [
       "   gender   age  hypertension  heart_disease ever_married      work_type  \\\n",
       "0    Male  67.0             0              1          Yes        Private   \n",
       "1  Female  61.0             0              0          Yes  Self-employed   \n",
       "2    Male  80.0             0              1          Yes        Private   \n",
       "3  Female  49.0             0              0          Yes        Private   \n",
       "4  Female  79.0             1              0          Yes  Self-employed   \n",
       "\n",
       "  Residence_type  avg_glucose_level   bmi   smoking_status  stroke  \n",
       "0          Urban             228.69  36.6  formerly smoked       1  \n",
       "1          Rural             202.21   NaN     never smoked       1  \n",
       "2          Rural             105.92  32.5     never smoked       1  \n",
       "3          Urban             171.23  34.4           smokes       1  \n",
       "4          Rural             174.12  24.0     never smoked       1  "
      ]
     },
     "execution_count": 2,
     "metadata": {},
     "output_type": "execute_result"
    }
   ],
   "source": [
    "data = pd.read_csv('healthcare-dataset-stroke-data.csv')\n",
    "data.drop('id', axis=1, inplace=True)\n",
    "\n",
    "data_copy = data.copy() # pipeline gösterimi için\n",
    "data_copy2 = data.copy() # pipeline'sız gösterim için\n",
    "\n",
    "data.head()"
   ]
  },
  {
   "cell_type": "code",
   "execution_count": 3,
   "metadata": {},
   "outputs": [
    {
     "data": {
      "image/png": "[encoded data removed]",
      "text/plain": [
       "<Figure size 864x576 with 1 Axes>"
      ]
     },
     "metadata": {
      "needs_background": "light"
     },
     "output_type": "display_data"
    }
   ],
   "source": [
    "# Dengesiz verisetinin labellarının sayılıp görselleştirilmesi.\n",
    "plt.figure(figsize = (12, 8))\n",
    "sns.countplot(data = data, x = 'stroke')\n",
    "plt.title('Label Dağılımı', size=18)\n",
    "plt.xticks([0, 1], ['Normal', 'Stroke'], size=14, rotation=25)\n",
    "plt.yticks(size=14)\n",
    "plt.xlabel('Label', size=14)\n",
    "plt.ylabel('Count', size=14)\n",
    "\n",
    "for p in plt.gca().patches:\n",
    "    percentage = f\"{p.get_height() / data.shape[0] * 100:.2f}%\"\n",
    "\n",
    "    plt.gca().annotate(f\"{p.get_height()} // {percentage}\", (p.get_x() + p.get_width() / 2., p.get_height()),\n",
    "                       ha='center', va='center',\n",
    "                       fontsize=14, color='black',\n",
    "                       xytext=(0, 10), textcoords='offset points')"
   ]
  },
  {
   "cell_type": "markdown",
   "metadata": {},
   "source": [
    "## Pipeline İçin Sütunların Belirlenmesi"
   ]
  },
  {
   "cell_type": "code",
   "execution_count": 4,
   "metadata": {},
   "outputs": [
    {
     "data": {
      "text/plain": [
       "['bmi']"
      ]
     },
     "execution_count": 4,
     "metadata": {},
     "output_type": "execute_result"
    }
   ],
   "source": [
    "# Eksik değer içeren sütunlar\n",
    "missing_cols = [col for col in data.columns if data[col].isnull().any()]\n",
    "missing_cols"
   ]
  },
  {
   "cell_type": "code",
   "execution_count": 5,
   "metadata": {},
   "outputs": [
    {
     "data": {
      "text/plain": [
       "['gender', 'ever_married', 'work_type', 'Residence_type', 'smoking_status']"
      ]
     },
     "execution_count": 5,
     "metadata": {},
     "output_type": "execute_result"
    }
   ],
   "source": [
    "# Numeric olmayan sütunlar.\n",
    "# Bunların içinde kategorik olup, integer ile encode edilmiş columnlar dahil değildir.\n",
    "# Mevcut pipeline planımıza göre 0 ve 1'lerden oluşan sütunlara dokunmayacağız.\n",
    "# 0, 1, 2 ..., n farklı değer içeren kategorik columnlara one-hot-encoding uygulayacağız.\n",
    "non_numerical_cols = [col for col in data.columns if data[col].dtype == 'object']\n",
    "non_numerical_cols"
   ]
  },
  {
   "cell_type": "code",
   "execution_count": 6,
   "metadata": {},
   "outputs": [
    {
     "name": "stdout",
     "output_type": "stream",
     "text": [
      "Sadece 2 eşsiz değer içerenler: ['ever_married', 'Residence_type']\n",
      "Geri kalan kategorik sütunlar: ['work_type', 'gender', 'smoking_status']\n",
      "İşlem yapılmayacaklar: ['hypertension', 'heart_disease']\n"
     ]
    }
   ],
   "source": [
    "numerical_cols = [\"age\", \"avg_glucose_level\", \"bmi\"]\n",
    "\n",
    "only_2_unique_val = [col for col in non_numerical_cols if data[col].nunique() == 2]\n",
    "rest_categorical_cols = list(set(non_numerical_cols) - set(only_2_unique_val))\n",
    "\n",
    "no_op_cols = list(set(data.columns) - set(non_numerical_cols) - set(missing_cols) - set(numerical_cols) - {'stroke'})\n",
    "\n",
    "print(f\"Sadece 2 eşsiz değer içerenler: {only_2_unique_val}\")\n",
    "print(f\"Geri kalan kategorik sütunlar: {rest_categorical_cols}\")\n",
    "print(f\"İşlem yapılmayacaklar: {no_op_cols}\")"
   ]
  },
  {
   "cell_type": "code",
   "execution_count": 7,
   "metadata": {},
   "outputs": [
    {
     "data": {
      "text/html": [
       "<div>\n",
       "<style scoped>\n",
       "    .dataframe tbody tr th:only-of-type {\n",
       "        vertical-align: middle;\n",
       "    }\n",
       "\n",
       "    .dataframe tbody tr th {\n",
       "        vertical-align: top;\n",
       "    }\n",
       "\n",
       "    .dataframe thead th {\n",
       "        text-align: right;\n",
       "    }\n",
       "</style>\n",
       "<table border=\"1\" class=\"dataframe\">\n",
       "  <thead>\n",
       "    <tr style=\"text-align: right;\">\n",
       "      <th></th>\n",
       "      <th>gender</th>\n",
       "      <th>age</th>\n",
       "      <th>hypertension</th>\n",
       "      <th>heart_disease</th>\n",
       "      <th>ever_married</th>\n",
       "      <th>work_type</th>\n",
       "      <th>Residence_type</th>\n",
       "      <th>avg_glucose_level</th>\n",
       "      <th>bmi</th>\n",
       "      <th>smoking_status</th>\n",
       "      <th>stroke</th>\n",
       "    </tr>\n",
       "  </thead>\n",
       "  <tbody>\n",
       "    <tr>\n",
       "      <th>0</th>\n",
       "      <td>Male</td>\n",
       "      <td>67.0</td>\n",
       "      <td>0</td>\n",
       "      <td>1</td>\n",
       "      <td>Yes</td>\n",
       "      <td>Private</td>\n",
       "      <td>Urban</td>\n",
       "      <td>228.69</td>\n",
       "      <td>36.6</td>\n",
       "      <td>formerly smoked</td>\n",
       "      <td>1</td>\n",
       "    </tr>\n",
       "    <tr>\n",
       "      <th>1</th>\n",
       "      <td>Female</td>\n",
       "      <td>61.0</td>\n",
       "      <td>0</td>\n",
       "      <td>0</td>\n",
       "      <td>Yes</td>\n",
       "      <td>Self-employed</td>\n",
       "      <td>Rural</td>\n",
       "      <td>202.21</td>\n",
       "      <td>NaN</td>\n",
       "      <td>never smoked</td>\n",
       "      <td>1</td>\n",
       "    </tr>\n",
       "    <tr>\n",
       "      <th>2</th>\n",
       "      <td>Male</td>\n",
       "      <td>80.0</td>\n",
       "      <td>0</td>\n",
       "      <td>1</td>\n",
       "      <td>Yes</td>\n",
       "      <td>Private</td>\n",
       "      <td>Rural</td>\n",
       "      <td>105.92</td>\n",
       "      <td>32.5</td>\n",
       "      <td>never smoked</td>\n",
       "      <td>1</td>\n",
       "    </tr>\n",
       "    <tr>\n",
       "      <th>3</th>\n",
       "      <td>Female</td>\n",
       "      <td>49.0</td>\n",
       "      <td>0</td>\n",
       "      <td>0</td>\n",
       "      <td>Yes</td>\n",
       "      <td>Private</td>\n",
       "      <td>Urban</td>\n",
       "      <td>171.23</td>\n",
       "      <td>34.4</td>\n",
       "      <td>smokes</td>\n",
       "      <td>1</td>\n",
       "    </tr>\n",
       "    <tr>\n",
       "      <th>4</th>\n",
       "      <td>Female</td>\n",
       "      <td>79.0</td>\n",
       "      <td>1</td>\n",
       "      <td>0</td>\n",
       "      <td>Yes</td>\n",
       "      <td>Self-employed</td>\n",
       "      <td>Rural</td>\n",
       "      <td>174.12</td>\n",
       "      <td>24.0</td>\n",
       "      <td>never smoked</td>\n",
       "      <td>1</td>\n",
       "    </tr>\n",
       "    <tr>\n",
       "      <th>...</th>\n",
       "      <td>...</td>\n",
       "      <td>...</td>\n",
       "      <td>...</td>\n",
       "      <td>...</td>\n",
       "      <td>...</td>\n",
       "      <td>...</td>\n",
       "      <td>...</td>\n",
       "      <td>...</td>\n",
       "      <td>...</td>\n",
       "      <td>...</td>\n",
       "      <td>...</td>\n",
       "    </tr>\n",
       "    <tr>\n",
       "      <th>5105</th>\n",
       "      <td>Female</td>\n",
       "      <td>80.0</td>\n",
       "      <td>1</td>\n",
       "      <td>0</td>\n",
       "      <td>Yes</td>\n",
       "      <td>Private</td>\n",
       "      <td>Urban</td>\n",
       "      <td>83.75</td>\n",
       "      <td>NaN</td>\n",
       "      <td>never smoked</td>\n",
       "      <td>0</td>\n",
       "    </tr>\n",
       "    <tr>\n",
       "      <th>5106</th>\n",
       "      <td>Female</td>\n",
       "      <td>81.0</td>\n",
       "      <td>0</td>\n",
       "      <td>0</td>\n",
       "      <td>Yes</td>\n",
       "      <td>Self-employed</td>\n",
       "      <td>Urban</td>\n",
       "      <td>125.20</td>\n",
       "      <td>40.0</td>\n",
       "      <td>never smoked</td>\n",
       "      <td>0</td>\n",
       "    </tr>\n",
       "    <tr>\n",
       "      <th>5107</th>\n",
       "      <td>Female</td>\n",
       "      <td>35.0</td>\n",
       "      <td>0</td>\n",
       "      <td>0</td>\n",
       "      <td>Yes</td>\n",
       "      <td>Self-employed</td>\n",
       "      <td>Rural</td>\n",
       "      <td>82.99</td>\n",
       "      <td>30.6</td>\n",
       "      <td>never smoked</td>\n",
       "      <td>0</td>\n",
       "    </tr>\n",
       "    <tr>\n",
       "      <th>5108</th>\n",
       "      <td>Male</td>\n",
       "      <td>51.0</td>\n",
       "      <td>0</td>\n",
       "      <td>0</td>\n",
       "      <td>Yes</td>\n",
       "      <td>Private</td>\n",
       "      <td>Rural</td>\n",
       "      <td>166.29</td>\n",
       "      <td>25.6</td>\n",
       "      <td>formerly smoked</td>\n",
       "      <td>0</td>\n",
       "    </tr>\n",
       "    <tr>\n",
       "      <th>5109</th>\n",
       "      <td>Female</td>\n",
       "      <td>44.0</td>\n",
       "      <td>0</td>\n",
       "      <td>0</td>\n",
       "      <td>Yes</td>\n",
       "      <td>Govt_job</td>\n",
       "      <td>Urban</td>\n",
       "      <td>85.28</td>\n",
       "      <td>26.2</td>\n",
       "      <td>Unknown</td>\n",
       "      <td>0</td>\n",
       "    </tr>\n",
       "  </tbody>\n",
       "</table>\n",
       "<p>5110 rows × 11 columns</p>\n",
       "</div>"
      ],
      "text/plain": [
       "      gender   age  hypertension  heart_disease ever_married      work_type  \\\n",
       "0       Male  67.0             0              1          Yes        Private   \n",
       "1     Female  61.0             0              0          Yes  Self-employed   \n",
       "2       Male  80.0             0              1          Yes        Private   \n",
       "3     Female  49.0             0              0          Yes        Private   \n",
       "4     Female  79.0             1              0          Yes  Self-employed   \n",
       "...      ...   ...           ...            ...          ...            ...   \n",
       "5105  Female  80.0             1              0          Yes        Private   \n",
       "5106  Female  81.0             0              0          Yes  Self-employed   \n",
       "5107  Female  35.0             0              0          Yes  Self-employed   \n",
       "5108    Male  51.0             0              0          Yes        Private   \n",
       "5109  Female  44.0             0              0          Yes       Govt_job   \n",
       "\n",
       "     Residence_type  avg_glucose_level   bmi   smoking_status  stroke  \n",
       "0             Urban             228.69  36.6  formerly smoked       1  \n",
       "1             Rural             202.21   NaN     never smoked       1  \n",
       "2             Rural             105.92  32.5     never smoked       1  \n",
       "3             Urban             171.23  34.4           smokes       1  \n",
       "4             Rural             174.12  24.0     never smoked       1  \n",
       "...             ...                ...   ...              ...     ...  \n",
       "5105          Urban              83.75   NaN     never smoked       0  \n",
       "5106          Urban             125.20  40.0     never smoked       0  \n",
       "5107          Rural              82.99  30.6     never smoked       0  \n",
       "5108          Rural             166.29  25.6  formerly smoked       0  \n",
       "5109          Urban              85.28  26.2          Unknown       0  \n",
       "\n",
       "[5110 rows x 11 columns]"
      ]
     },
     "execution_count": 7,
     "metadata": {},
     "output_type": "execute_result"
    }
   ],
   "source": [
    "data"
   ]
  },
  {
   "cell_type": "markdown",
   "metadata": {},
   "source": [
    "## Hatalı Pipeline - Data Leak Gösterimi\n",
    "* Train-Test split yapmadan:\n",
    "  * Eksik değerlerin mean-mode-median vb. ile doldurulması,\n",
    "  * Kategorik sütunların encode edilmesi,\n",
    "  * Kategorik sütunların bazılarına one-hot-encoding uygunlanması,\n",
    "  * Verinin scale edilmesi\n",
    "  * SMOTE uygulanması\n",
    "vb. adımlar bir data-leak örneğidir. Bu adımların herhangir birisinin yine tek başına uygulanması bir data-leak'e sebebiyet verecektir. \n",
    "\n",
    "<br>\n",
    "\n",
    "* Cross validation için durum daha farklıdır:\n",
    "  * Her train ve validation fold'unu ayrı ayrı train-test mantığıyla düşünmek gerekir.\n",
    "\n",
    "<br>\n",
    "\n",
    "* Aşağıda yapılan hataları adım adım burada toplayacak olursak:\n",
    "  * Direkt mean ile eksik değerlerin doldurulması,\n",
    "  * Kategorik sütunların LabelEncoder ile encode edilmesi,\n",
    "    * Bir döngü içinde sürekli fit_transform kullanılması,\n",
    "  * One-hot-encoding için pd.get_dummies kullanılması,\n",
    "  * Verinin scale edilmesinin sırasının yanlış olması ve\n",
    "  * SMOTE'nin verinin tamamına uygulanması\n",
    "şeklinde sıralanabilir."
   ]
  },
  {
   "cell_type": "code",
   "execution_count": 8,
   "metadata": {},
   "outputs": [
    {
     "data": {
      "text/html": [
       "<div>\n",
       "<style scoped>\n",
       "    .dataframe tbody tr th:only-of-type {\n",
       "        vertical-align: middle;\n",
       "    }\n",
       "\n",
       "    .dataframe tbody tr th {\n",
       "        vertical-align: top;\n",
       "    }\n",
       "\n",
       "    .dataframe thead th {\n",
       "        text-align: right;\n",
       "    }\n",
       "</style>\n",
       "<table border=\"1\" class=\"dataframe\">\n",
       "  <thead>\n",
       "    <tr style=\"text-align: right;\">\n",
       "      <th></th>\n",
       "      <th>age</th>\n",
       "      <th>hypertension</th>\n",
       "      <th>heart_disease</th>\n",
       "      <th>ever_married</th>\n",
       "      <th>Residence_type</th>\n",
       "      <th>avg_glucose_level</th>\n",
       "      <th>bmi</th>\n",
       "      <th>stroke</th>\n",
       "      <th>work_type_Govt_job</th>\n",
       "      <th>work_type_Never_worked</th>\n",
       "      <th>work_type_Private</th>\n",
       "      <th>work_type_Self-employed</th>\n",
       "      <th>work_type_children</th>\n",
       "      <th>gender_Female</th>\n",
       "      <th>gender_Male</th>\n",
       "      <th>gender_Other</th>\n",
       "      <th>smoking_status_Unknown</th>\n",
       "      <th>smoking_status_formerly smoked</th>\n",
       "      <th>smoking_status_never smoked</th>\n",
       "      <th>smoking_status_smokes</th>\n",
       "    </tr>\n",
       "  </thead>\n",
       "  <tbody>\n",
       "    <tr>\n",
       "      <th>0</th>\n",
       "      <td>0.611111</td>\n",
       "      <td>0</td>\n",
       "      <td>1</td>\n",
       "      <td>1</td>\n",
       "      <td>1</td>\n",
       "      <td>3.712987</td>\n",
       "      <td>0.911111</td>\n",
       "      <td>1</td>\n",
       "      <td>0</td>\n",
       "      <td>0</td>\n",
       "      <td>1</td>\n",
       "      <td>0</td>\n",
       "      <td>0</td>\n",
       "      <td>0</td>\n",
       "      <td>1</td>\n",
       "      <td>0</td>\n",
       "      <td>0</td>\n",
       "      <td>1</td>\n",
       "      <td>0</td>\n",
       "      <td>0</td>\n",
       "    </tr>\n",
       "    <tr>\n",
       "      <th>1</th>\n",
       "      <td>0.444444</td>\n",
       "      <td>0</td>\n",
       "      <td>0</td>\n",
       "      <td>1</td>\n",
       "      <td>0</td>\n",
       "      <td>2.994300</td>\n",
       "      <td>0.054804</td>\n",
       "      <td>1</td>\n",
       "      <td>0</td>\n",
       "      <td>0</td>\n",
       "      <td>0</td>\n",
       "      <td>1</td>\n",
       "      <td>0</td>\n",
       "      <td>1</td>\n",
       "      <td>0</td>\n",
       "      <td>0</td>\n",
       "      <td>0</td>\n",
       "      <td>0</td>\n",
       "      <td>1</td>\n",
       "      <td>0</td>\n",
       "    </tr>\n",
       "    <tr>\n",
       "      <th>2</th>\n",
       "      <td>0.972222</td>\n",
       "      <td>0</td>\n",
       "      <td>1</td>\n",
       "      <td>1</td>\n",
       "      <td>0</td>\n",
       "      <td>0.380920</td>\n",
       "      <td>0.455556</td>\n",
       "      <td>1</td>\n",
       "      <td>0</td>\n",
       "      <td>0</td>\n",
       "      <td>1</td>\n",
       "      <td>0</td>\n",
       "      <td>0</td>\n",
       "      <td>0</td>\n",
       "      <td>1</td>\n",
       "      <td>0</td>\n",
       "      <td>0</td>\n",
       "      <td>0</td>\n",
       "      <td>1</td>\n",
       "      <td>0</td>\n",
       "    </tr>\n",
       "    <tr>\n",
       "      <th>3</th>\n",
       "      <td>0.111111</td>\n",
       "      <td>0</td>\n",
       "      <td>0</td>\n",
       "      <td>1</td>\n",
       "      <td>1</td>\n",
       "      <td>2.153481</td>\n",
       "      <td>0.666667</td>\n",
       "      <td>1</td>\n",
       "      <td>0</td>\n",
       "      <td>0</td>\n",
       "      <td>1</td>\n",
       "      <td>0</td>\n",
       "      <td>0</td>\n",
       "      <td>1</td>\n",
       "      <td>0</td>\n",
       "      <td>0</td>\n",
       "      <td>0</td>\n",
       "      <td>0</td>\n",
       "      <td>0</td>\n",
       "      <td>1</td>\n",
       "    </tr>\n",
       "    <tr>\n",
       "      <th>4</th>\n",
       "      <td>0.944444</td>\n",
       "      <td>1</td>\n",
       "      <td>0</td>\n",
       "      <td>1</td>\n",
       "      <td>0</td>\n",
       "      <td>2.231917</td>\n",
       "      <td>-0.488889</td>\n",
       "      <td>1</td>\n",
       "      <td>0</td>\n",
       "      <td>0</td>\n",
       "      <td>0</td>\n",
       "      <td>1</td>\n",
       "      <td>0</td>\n",
       "      <td>1</td>\n",
       "      <td>0</td>\n",
       "      <td>0</td>\n",
       "      <td>0</td>\n",
       "      <td>0</td>\n",
       "      <td>1</td>\n",
       "      <td>0</td>\n",
       "    </tr>\n",
       "  </tbody>\n",
       "</table>\n",
       "</div>"
      ],
      "text/plain": [
       "        age  hypertension  heart_disease  ever_married  Residence_type  \\\n",
       "0  0.611111             0              1             1               1   \n",
       "1  0.444444             0              0             1               0   \n",
       "2  0.972222             0              1             1               0   \n",
       "3  0.111111             0              0             1               1   \n",
       "4  0.944444             1              0             1               0   \n",
       "\n",
       "   avg_glucose_level       bmi  stroke  work_type_Govt_job  \\\n",
       "0           3.712987  0.911111       1                   0   \n",
       "1           2.994300  0.054804       1                   0   \n",
       "2           0.380920  0.455556       1                   0   \n",
       "3           2.153481  0.666667       1                   0   \n",
       "4           2.231917 -0.488889       1                   0   \n",
       "\n",
       "   work_type_Never_worked  work_type_Private  work_type_Self-employed  \\\n",
       "0                       0                  1                        0   \n",
       "1                       0                  0                        1   \n",
       "2                       0                  1                        0   \n",
       "3                       0                  1                        0   \n",
       "4                       0                  0                        1   \n",
       "\n",
       "   work_type_children  gender_Female  gender_Male  gender_Other  \\\n",
       "0                   0              0            1             0   \n",
       "1                   0              1            0             0   \n",
       "2                   0              0            1             0   \n",
       "3                   0              1            0             0   \n",
       "4                   0              1            0             0   \n",
       "\n",
       "   smoking_status_Unknown  smoking_status_formerly smoked  \\\n",
       "0                       0                               1   \n",
       "1                       0                               0   \n",
       "2                       0                               0   \n",
       "3                       0                               0   \n",
       "4                       0                               0   \n",
       "\n",
       "   smoking_status_never smoked  smoking_status_smokes  \n",
       "0                            0                      0  \n",
       "1                            1                      0  \n",
       "2                            1                      0  \n",
       "3                            0                      1  \n",
       "4                            1                      0  "
      ]
     },
     "execution_count": 8,
     "metadata": {},
     "output_type": "execute_result"
    }
   ],
   "source": [
    "# Eksik değerlerin mean ile doldurulması\n",
    "data[missing_cols] = data[missing_cols].fillna(data[missing_cols].mean())\n",
    "\n",
    "# Sadece 2 değer içeren sütunların encode edilmesi #\n",
    "# Bilinenin aksine bunun için LabelEncoder kullanmak YANLIŞTIR.\n",
    "# Sıklıkla yapılan hatalardan birisi de özellik sütunlarının\n",
    "# LabelEncoder kullanılarak integer değerlere çevrilmesidir.\n",
    "# İsminden de anlaşılacağı üzere label yani etiketler için\n",
    "# kullanılmalıdır.\n",
    "label_encoder = LabelEncoder()\n",
    "\n",
    "for col in only_2_unique_val:\n",
    "    # Bir diğer hata ise encode edecek obje üstüne sürekli\n",
    "    # fit_transform kullanılmasıdır. \n",
    "    # Eğer encoder objesi çoklu sütunlar kaldıramıyorsa\n",
    "    # döngü içinde her sütun için encoder objesi bir dict içinde saklanmalıdır.\n",
    "    data[col] = label_encoder.fit_transform(data[col])\n",
    "\n",
    "# pd.get_dummies bir pipeline için uygun değildir.\n",
    "# Bunun yerine sklearnden one-hot-encoder kullanılmalıdır.\n",
    "# Çünkü pd.get_dummies train-test ayrımı yapmadan one-hot-encoding yapar.\n",
    "# Bizim amacımız trainde OHE yapıp, aynı mapping'i diğer splitlere uygulamaktır.\n",
    "data = pd.get_dummies(data, columns=rest_categorical_cols)\n",
    "\n",
    "# Verilerin scale edilmesinde sorun yok fakat sıra olarak yanlış.\n",
    "robust_scaler = RobustScaler()\n",
    "\n",
    "data[numerical_cols] = robust_scaler.fit_transform(data[numerical_cols])\n",
    "\n",
    "data.head()"
   ]
  },
  {
   "cell_type": "code",
   "execution_count": 9,
   "metadata": {},
   "outputs": [
    {
     "name": "stdout",
     "output_type": "stream",
     "text": [
      "(7777, 19) 0\n",
      "(1945, 19) 0\n",
      "(7777,) 0\n",
      "(1945,) 0\n"
     ]
    }
   ],
   "source": [
    "features = data.drop('stroke', axis=1)\n",
    "target = data['stroke']\n",
    "\n",
    "# Sorunlardan en büyüğü olabilir, train-test ayrımı yapmadan SMOTE uygulanmaz.\n",
    "smote = SMOTE(random_state=42)\n",
    "features, target = smote.fit_resample(features, target)\n",
    "\n",
    "X_train, X_test, y_train, y_test = train_test_split(features, target, test_size=0.2, random_state=42)\n",
    "\n",
    "for split in [X_train, X_test, y_train, y_test]:\n",
    "    print(split.shape, split.isnull().sum().sum())"
   ]
  },
  {
   "cell_type": "code",
   "execution_count": 10,
   "metadata": {},
   "outputs": [
    {
     "name": "stdout",
     "output_type": "stream",
     "text": [
      "Fold 1 score: 89.19%\n",
      "Fold 2 score: 88.16%\n",
      "Fold 3 score: 88.52%\n",
      "Fold 4 score: 86.69%\n",
      "Fold 5 score: 88.65%\n",
      "------------------------\n",
      "Ortalama F1-Skoru: 88.24%\n",
      "Standart Sapma: 0.84%\n"
     ]
    }
   ],
   "source": [
    "model = Model()\n",
    "\n",
    "# 5 Fold CV - Bu cross-validation'ın hiçbir değeri yoktur.\n",
    "# Çünkü izlenen adımlar tamamen yanlıştır. Bir şeylerin çalışıp\n",
    "# skor üretiyor olması, doğru bir sonuç ürettiğini göstermez.\n",
    "\n",
    "# Skorlar yüksek çıktı diye sevinelim mi?\n",
    "cv_scores = cross_val_score(model,\n",
    "                            X_train, \n",
    "                            y_train,\n",
    "                            cv=5,\n",
    "                            scoring=\"f1_macro\")\n",
    "\n",
    "for i, score in enumerate(cv_scores):\n",
    "    print(f\"Fold {i + 1} score: {score * 100:.2f}%\")\n",
    "\n",
    "print(\"---\" * 8)\n",
    "print(f\"Ortalama F1-Skoru: {cv_scores.mean() * 100:.2f}%\")\n",
    "print(f\"Standart Sapma: {cv_scores.std() * 100:.2f}%\")"
   ]
  },
  {
   "cell_type": "code",
   "execution_count": 11,
   "metadata": {},
   "outputs": [],
   "source": [
    "model = Model()\n",
    "model.fit(X_train, y_train)\n",
    "y_pred = model.predict(X_test)"
   ]
  },
  {
   "cell_type": "code",
   "execution_count": 12,
   "metadata": {},
   "outputs": [],
   "source": [
    "def plot_confusion_matrix(confusion_matrix):    \n",
    "    plt.figure(figsize = (12, 8))\n",
    "    sns.heatmap(confusion_matrix,\n",
    "                annot=True,\n",
    "                fmt='d',\n",
    "                cmap='Blues',\n",
    "                linewidths=10,\n",
    "                annot_kws={'size': 20}, cbar=False)\n",
    "\n",
    "    plt.title('Confusion Matrix', size=18)\n",
    "    plt.xticks([0.5, 1.5], ['Predicted Normal', 'Predicted Stroke'], size=14, rotation=25)\n",
    "    plt.yticks([0.5, 1.5], ['Actual Normal', 'Actual Stroke'], size=14, rotation=25)\n",
    "    plt.xlabel('Predicted Label', size=14)\n",
    "    plt.ylabel('Actual Label', size=14)\n",
    "    plt.show()"
   ]
  },
  {
   "cell_type": "code",
   "execution_count": 13,
   "metadata": {},
   "outputs": [
    {
     "data": {
      "image/png": "[encoded data removed]",
      "text/plain": [
       "<Figure size 864x576 with 1 Axes>"
      ]
     },
     "metadata": {
      "needs_background": "light"
     },
     "output_type": "display_data"
    }
   ],
   "source": [
    "# Sonuçlar iyi görünüyor.\n",
    "plot_confusion_matrix(confusion_matrix(y_test, y_pred))"
   ]
  },
  {
   "cell_type": "markdown",
   "metadata": {},
   "source": [
    "#### classification_reportta da güzel sonuçlar görmekteyiz fakat ne yazık ki bu model gerçek hayatta bu başarıyı gösteremeyecektir."
   ]
  },
  {
   "cell_type": "code",
   "execution_count": 14,
   "metadata": {},
   "outputs": [
    {
     "name": "stdout",
     "output_type": "stream",
     "text": [
      "              precision    recall  f1-score   support\n",
      "\n",
      "           0       0.91      0.82      0.86       975\n",
      "           1       0.83      0.92      0.87       970\n",
      "\n",
      "    accuracy                           0.87      1945\n",
      "   macro avg       0.87      0.87      0.87      1945\n",
      "weighted avg       0.87      0.87      0.87      1945\n",
      "\n"
     ]
    }
   ],
   "source": [
    "print(classification_report(y_test, y_pred))"
   ]
  },
  {
   "cell_type": "markdown",
   "metadata": {},
   "source": [
    "## Doğru Pipeline Kurma - Pipeline Object\n",
    "\n",
    "#### Cross Validation yapacaksak doğru kullanım bu şekilde olmalıdır."
   ]
  },
  {
   "cell_type": "code",
   "execution_count": 15,
   "metadata": {},
   "outputs": [],
   "source": [
    "# Sklearn bünyesinde bulunan Pipeline class'ı data leak olmaması için \n",
    "# gerekli adımları doğru sırada uygulayacaktır.\n",
    "\n",
    "# Her sütun için farklı işlemler yapacağımız için ayrı ayrı Pipeline\n",
    "# içine koyabiliriz.\n",
    "numeric_transformer = Pipeline(steps=[\n",
    "    ('imputer', SimpleImputer(strategy='mean')),\n",
    "    ('scaler', RobustScaler())])\n",
    "\n",
    "# LabelEncoder yerine OrdinalEncoder kullanılmalıdır.\n",
    "binary_transformer = Pipeline(steps=[\n",
    "    ('binary', OrdinalEncoder(handle_unknown='use_encoded_value', unknown_value=-1)),\n",
    "])\n",
    "\n",
    "# Get Dummies yerine de OneHotEncoder kullanımı doğrudur.\n",
    "non_binary_transformer = Pipeline(steps=[\n",
    "    ('non_binary', OneHotEncoder(handle_unknown='ignore'))\n",
    "])\n",
    "\n",
    "# Herhangi bir dönüşüm uygulayacaksak lambda fonksiyonu kullanabiliriz.\n",
    "# Bu pipeline'a bir işlem uygulamayacağımız sütunları göndereceğiz.\n",
    "no_op_transformer = Pipeline(steps=[\n",
    "    ('no_op', FunctionTransformer(lambda x: x))\n",
    "])\n",
    "\n",
    "# Bütün bu pipelineların hepsini ColumnTransformer altında birleştirip\n",
    "# hangi sütunlar üzerinde işlem yapacaksa o şekilde belirtebiliriz.\n",
    "preprocessing_pipeline = ColumnTransformer(transformers=[\n",
    "    # burada sadece missing değerler için ayrı bir pipeline açabilirdik,\n",
    "    # daha da uzamaması için direkt numerical_cols verildi.\n",
    "    ('numeric', numeric_transformer, numerical_cols),\n",
    "    ('binary', binary_transformer, only_2_unique_val),\n",
    "    ('non_binary', non_binary_transformer, rest_categorical_cols),\n",
    "    ('no_op', no_op_transformer, no_op_cols)\n",
    "])\n",
    "\n",
    "# imblearn çatısı altındaki Pipeline class'ını kullanarak SMOTE'yi verebiliriz.\n",
    "model_pipeline = imbalancedPipeline(steps=[\n",
    "    ('preprocessing', preprocessing_pipeline),\n",
    "    ('smote', SMOTE()),\n",
    "    ('model', Model())\n",
    "])\n",
    "\n",
    "features = data_copy.drop('stroke', axis=1)\n",
    "target = data_copy['stroke']\n",
    "\n",
    "X_train, X_test, y_train, y_test = train_test_split(features, target, test_size=0.2, random_state=42)"
   ]
  },
  {
   "cell_type": "code",
   "execution_count": 16,
   "metadata": {},
   "outputs": [
    {
     "name": "stdout",
     "output_type": "stream",
     "text": [
      "Fold 1 score: 55.37%\n",
      "Fold 2 score: 51.20%\n",
      "Fold 3 score: 52.97%\n",
      "Fold 4 score: 52.44%\n",
      "Fold 5 score: 53.18%\n",
      "------------------------\n",
      "Ortalama F1-Skoru : 53.03%\n",
      "Standart Sapma: 1.36%\n"
     ]
    }
   ],
   "source": [
    "# Pipeline class'ı doğru şekilde cross-validation'ı uygulayacak.\n",
    "skf = StratifiedKFold(n_splits=5, shuffle=True, random_state=42)\n",
    "\n",
    "cv_scores = cross_val_score(model_pipeline, X_train, y_train, cv=skf,\n",
    "                            scoring=\"f1_macro\")\n",
    "\n",
    "for i, score in enumerate(cv_scores):\n",
    "    print(f\"Fold {i + 1} score: {score * 100:.2f}%\")\n",
    "\n",
    "print(\"---\" * 8)\n",
    "print(f\"Ortalama F1-Skoru : {cv_scores.mean() * 100:.2f}%\")\n",
    "print(f\"Standart Sapma: {cv_scores.std() * 100:.2f}%\")"
   ]
  },
  {
   "cell_type": "code",
   "execution_count": 17,
   "metadata": {},
   "outputs": [],
   "source": [
    "model_pipeline.fit(X_train, y_train)\n",
    "y_pred = model_pipeline.predict(X_test)"
   ]
  },
  {
   "cell_type": "code",
   "execution_count": 18,
   "metadata": {},
   "outputs": [
    {
     "data": {
      "image/png": "[encoded data removed]",
      "text/plain": [
       "<Figure size 864x576 with 1 Axes>"
      ]
     },
     "metadata": {
      "needs_background": "light"
     },
     "output_type": "display_data"
    }
   ],
   "source": [
    "plot_confusion_matrix(confusion_matrix(y_test, y_pred))"
   ]
  },
  {
   "cell_type": "markdown",
   "source": [
    "#### Yukarıdaki sonuçlara nazaran daha kötü bir sonuç elde ettik fakat data leak olmadan doğru bir şekilde pipeline kurmuş olduk.\n",
    "#### Modelin gerçek hayattaki performansı bu şekilde olacak diyebiliriz. (Data Drift vb olmadan)\n",
    " * Data drift sonraki notebooklarda ele alınacaktır."
   ],
   "metadata": {
    "collapsed": false
   }
  },
  {
   "cell_type": "code",
   "execution_count": 19,
   "metadata": {},
   "outputs": [
    {
     "name": "stdout",
     "output_type": "stream",
     "text": [
      "              precision    recall  f1-score   support\n",
      "\n",
      "           0       0.96      0.84      0.89       960\n",
      "           1       0.14      0.40      0.20        62\n",
      "\n",
      "    accuracy                           0.81      1022\n",
      "   macro avg       0.55      0.62      0.55      1022\n",
      "weighted avg       0.91      0.81      0.85      1022\n",
      "\n"
     ]
    }
   ],
   "source": [
    "print(classification_report(y_test, y_pred))"
   ]
  },
  {
   "cell_type": "markdown",
   "metadata": {},
   "source": [
    "## Aynı Adımlar fakat Pipeline Class'ı Olmadan"
   ]
  },
  {
   "cell_type": "code",
   "execution_count": 20,
   "metadata": {},
   "outputs": [],
   "source": [
    "features, target = data_copy2.drop('stroke', axis=1), data_copy2['stroke']"
   ]
  },
  {
   "cell_type": "code",
   "execution_count": 21,
   "metadata": {},
   "outputs": [
    {
     "name": "stdout",
     "output_type": "stream",
     "text": [
      "Fold 1 score: 53.71%\n",
      "Fold 2 score: 51.69%\n",
      "Fold 3 score: 53.22%\n",
      "Fold 4 score: 51.96%\n",
      "Fold 5 score: 52.16%\n"
     ]
    }
   ],
   "source": [
    "# Cross val objesini oluşturuyoruz.\n",
    "skf = StratifiedKFold(n_splits=5, shuffle=True, random_state=42)\n",
    "\n",
    "# Train test split\n",
    "X_train, X_test, y_train, y_test = train_test_split(features, target, test_size=0.2, random_state=42)\n",
    "\n",
    "cv_results = {}\n",
    "\n",
    "for fold_no, (train_idx, val_idx) in enumerate(skf.split(X_train, y_train)):\n",
    "    \n",
    "    # Train ve validasyon setlerini alıyoruz.\n",
    "    X_train_fold, X_val_fold = X_train.iloc[train_idx], X_train.iloc[val_idx]\n",
    "    y_train_fold, y_val_fold = y_train.iloc[train_idx], y_train.iloc[val_idx]\n",
    "    \n",
    "    #########################################################################\n",
    "    ##################Bundan sonraki adımlar çok önemli######################\n",
    "    #########################################################################\n",
    "    \n",
    "    for missing_col in missing_cols:\n",
    "        # Train foldlarında mean hesaplanır.\n",
    "        train_mean = X_train_fold[missing_col].mean()\n",
    "        \n",
    "        # Val ve train aynı değerlerle doldurulur.\n",
    "        X_train_fold.loc[:, missing_col] = X_train_fold.loc[:, missing_col].fillna(train_mean)\n",
    "        X_val_fold.loc[:, missing_col] = X_val_fold.loc[:, missing_col].fillna(train_mean)\n",
    "\n",
    "    scaler = RobustScaler()\n",
    "    # Sadece TRAIN fit_transform!!\n",
    "    X_train_fold.loc[:, numerical_cols] = scaler.fit_transform(X_train_fold.loc[:, numerical_cols])\n",
    "    # Test ve val setleri TRANSFORM!!\n",
    "    X_val_fold.loc[:, numerical_cols] = scaler.transform(X_val_fold.loc[:, numerical_cols])\n",
    "    \n",
    "    # Encoding kısmı\n",
    "    for col in only_2_unique_val:\n",
    "        # Encoder objesi oluşturulur.\n",
    "        # Train splitinde görülmemiş bir değer varsa -1 olarak dönüştürüyor.\n",
    "        # pd.get_dummies ile bu mümkün değildir.\n",
    "        encoder = OrdinalEncoder(handle_unknown='use_encoded_value', unknown_value=-1)\n",
    "        \n",
    "        # Dikkat ederseniz scalerda da olduğu gibi sadece train fit_transform.\n",
    "        # Validation için transform methodunu kullanıyoruz.\n",
    "        X_train_fold.loc[:, col] = encoder.fit_transform(X_train_fold.loc[:, col].values.reshape(-1, 1))\n",
    "        X_val_fold.loc[:, col] = encoder.transform(X_val_fold.loc[:, col].values.reshape(-1, 1))\n",
    "\n",
    "    # One-hot-encoder kullanımı\n",
    "    ohe = OneHotEncoder(handle_unknown='ignore')\n",
    "    \n",
    "    # Train için sadece fit edip sonra sürekli transform methodu da kullanılabilir.\n",
    "    ohe.fit(X_train_fold[rest_categorical_cols])\n",
    "    \n",
    "    # Sorun şu ki, transform diyince elimizde farklı bir dataframe oluyor, bunu da öncekiyle\n",
    "    # concat etmemiz lazım.\n",
    "    train_ohe = pd.DataFrame(ohe.transform(X_train_fold[rest_categorical_cols]).toarray(), \n",
    "                             columns=ohe.get_feature_names_out(rest_categorical_cols))\n",
    "    \n",
    "    val_ohe = pd.DataFrame(ohe.transform(X_val_fold[rest_categorical_cols]).toarray(),\n",
    "                           columns=ohe.get_feature_names_out(rest_categorical_cols))\n",
    "    \n",
    "    X_train_fold = pd.concat([X_train_fold.reset_index(drop=True), \n",
    "                              train_ohe.reset_index(drop=True)], axis=1)\n",
    "    X_val_fold = pd.concat([X_val_fold.reset_index(drop=True), \n",
    "                            val_ohe.reset_index(drop=True)], axis=1)\n",
    "    \n",
    "    # OHE işleminden sonra fazla sütunları drop etmeliyiz, çünkü OHE df ve öncekini birleştirdik.\n",
    "    X_train_fold = X_train_fold.drop(rest_categorical_cols, \n",
    "                                     axis=1)\n",
    "    X_val_fold = X_val_fold.drop(rest_categorical_cols,\n",
    "                                 axis=1)\n",
    "\n",
    "    # SMOTE kullanmaya hazırız.\n",
    "    # Sadece train setinde uygulamalıyız, modelin performansı yine kalan orijinal örnekler\n",
    "    # üzerinden değerlendirilmeli.\n",
    "    sm = SMOTE()\n",
    "    X_train_fold, y_train_fold = sm.fit_resample(X_train_fold, y_train_fold)\n",
    "\n",
    "    model = Model()\n",
    "    \n",
    "    # Fit ve predict\n",
    "    model.fit(X_train_fold, y_train_fold)\n",
    "    y_pred = model.predict(X_val_fold)\n",
    "    \n",
    "    # Skorların hesaplanıp, saklanması\n",
    "    f1_score_fold = f1_score(y_val_fold, y_pred, average='macro')\n",
    "    cv_results[fold_no] = f1_score_fold\n",
    "\n",
    "    print(f\"Fold {fold_no + 1} score: {f1_score_fold * 100:.2f}%\")"
   ]
  },
  {
   "cell_type": "code",
   "execution_count": 22,
   "metadata": {},
   "outputs": [
    {
     "data": {
      "text/plain": [
       "0.5255"
      ]
     },
     "execution_count": 22,
     "metadata": {},
     "output_type": "execute_result"
    }
   ],
   "source": [
    "# Ortalama F1-Skoru görüldüğü üzere Pipeline kullanımı ile yakın çıktı.\n",
    "# Pipeline class'ı bu adımları bizim için arka planda ayarlamış oluyor.\n",
    "(sum(cv_results.values()) / len(cv_results)).round(4)"
   ]
  },
  {
   "cell_type": "code",
   "execution_count": null,
   "metadata": {},
   "outputs": [],
   "source": []
  },
  {
   "cell_type": "code",
   "execution_count": null,
   "metadata": {},
   "outputs": [],
   "source": []
  }
 ],
 "metadata": {
  "kernelspec": {
   "display_name": "Python 3 (ipykernel)",
   "language": "python",
   "name": "python3"
  },
  "language_info": {
   "codemirror_mode": {
    "name": "ipython",
    "version": 3
   },
   "file_extension": ".py",
   "mimetype": "text/x-python",
   "name": "python",
   "nbconvert_exporter": "python",
   "pygments_lexer": "ipython3",
   "version": "3.9.13"
  }
 },
 "nbformat": 4,
 "nbformat_minor": 1
}
