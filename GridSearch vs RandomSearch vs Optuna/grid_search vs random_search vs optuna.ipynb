{
 "cells": [
  {
   "cell_type": "markdown",
   "source": [
    "# Hyperparameter Tuning - Karşılaştırma\n",
    "\n",
    "- Kısa bir karşılaştırma yaparak GridSearchCV, RandomizedSearchCV ve Optuna arasındaki farkları inceleyelim.\n",
    "\n",
    "## Grid Search\n",
    "\n",
    "- GridSearchCV, tüm parametre kombinasyonlarını deneyerek en iyi parametre setini bulmaya çalışan bir yöntemdir. Tüm olası kombinasyonları denediği için parametre sayısı arttıkça hesaplama süresi ciddi şekilde uzar.\n",
    "\n",
    "## Random Search\n",
    "\n",
    "- RandomizedSearchCV, parametrelerin rastgele seçilmiş kombinasyonlarını kullanarak en iyi parametre setini bulmaya çalışan bir yöntemdir. Parametre sayısı arttıkça, tüm kombinasyonları denemek yerine rastgele bir alt küme seçtiği için GridSearchCV'ye göre daha hızlı çalışır.\n",
    "\n",
    "## Optuna\n",
    "\n",
    "- Optuna, en iyi parametre setini bulmak için parametrelerin rastgele kombinasyonlarını deneyen bir yöntemdir. GridSearchCV'den ve RandomizedSearchCV'ye göre *genelde* (iterasyon sayısına bağlı olarak) daha hızlı çalışabilir, her zaman daha hızlı olacak diye bir durum söz konusu değildir. Ayrıca, parametreler arasındaki ilişkileri dikkate alarak daha iyi parametre kombinasyonları bulur. Bu, Bayesian Optimizasyon (varsayılanı bu şekilde fakat değiştirilebilir) yöntemi kullanılarak gerçekleştirilir."
   ],
   "metadata": {
    "collapsed": false
   }
  },
  {
   "cell_type": "code",
   "execution_count": 9,
   "metadata": {
    "colab": {
     "base_uri": "https://localhost:8080/"
    },
    "id": "WWaTMupZ7yxI",
    "outputId": "47d1e862-251f-437b-e1d3-baf11f0fb86a"
   },
   "outputs": [
    {
     "name": "stdout",
     "output_type": "stream",
     "text": [
      "Fitting 3 folds for each of 72 candidates, totalling 216 fits\n",
      "Time taken:  25.38978338241577\n"
     ]
    }
   ],
   "source": [
    "import time\n",
    "\n",
    "import numpy as np\n",
    "from sklearn.model_selection import train_test_split, GridSearchCV, RandomizedSearchCV, cross_val_score\n",
    "from sklearn.pipeline import Pipeline\n",
    "from sklearn.svm import SVC\n",
    "import optuna\n",
    "\n",
    "from sklearn.datasets import make_classification\n",
    "\n",
    "sample_size = 5000\n",
    "n_features = 24\n",
    "n_classes = 5\n",
    "X, y = make_classification(n_samples=sample_size, \n",
    "                           n_features=n_features,\n",
    "                           n_classes=n_classes,\n",
    "                           random_state=42,\n",
    "                           n_informative=5)\n",
    "\n",
    "X_train, X_test, y_train, y_test = train_test_split(X, y, test_size=0.2, random_state=42)\n",
    "\n",
    "pipeline = Pipeline([\n",
    "    ('svc', SVC())\n",
    "])\n",
    "\n",
    "# GridSearchCV ve RandomSearch için parametreler\n",
    "hyperparameters = {\n",
    "    'svc__C': [0.001, 0.1, 1, 10],\n",
    "    'svc__kernel': ['linear', 'rbf', 'poly'],\n",
    "    'svc__degree': [2, 3, 4],\n",
    "    'svc__gamma': ['scale', 'auto']\n",
    "}\n",
    "\n",
    "\n",
    "# GridSearchCV\n",
    "time_grid = time.time()\n",
    "grid_search = GridSearchCV(pipeline, \n",
    "                           hyperparameters,\n",
    "                           scoring='accuracy', \n",
    "                           cv=3,\n",
    "                           n_jobs=-1,\n",
    "                           verbose=3)\n",
    "\n",
    "grid_search.fit(X_train, y_train)\n",
    "print(\"Time taken: \", time.time() - time_grid)\n",
    "\n",
    "best_grid_params = grid_search.best_params_\n",
    "best_grid_pipeline = grid_search.best_estimator_\n",
    "\n",
    "# 4 x 3 x 3 x 2 = 72 farklı parametre kombinasyonu denendi\n",
    "# 3-fold cross validation yapıldı, totalde 72 x 3 = 216 fit\n",
    "grid_search_accuracy = best_grid_pipeline.score(X_test, y_test)"
   ]
  },
  {
   "cell_type": "code",
   "execution_count": 10,
   "metadata": {
    "colab": {
     "base_uri": "https://localhost:8080/"
    },
    "id": "AN5fdko085Hj",
    "outputId": "34c65074-3dca-4292-f883-789a6bc90065"
   },
   "outputs": [
    {
     "data": {
      "text/plain": [
       "{'svc__C': 1, 'svc__degree': 2, 'svc__gamma': 'auto', 'svc__kernel': 'rbf'}"
      ]
     },
     "execution_count": 10,
     "metadata": {},
     "output_type": "execute_result"
    }
   ],
   "source": [
    "# En iyi parametrelere dikkat edin, verdiğimiz parametrelerden bir kombinasyonu seçildi.\n",
    "best_grid_params"
   ]
  },
  {
   "cell_type": "markdown",
   "source": [
    "### Sorun Nedir?\n",
    "\n",
    "<br>\n",
    "\n",
    "- En iyi `C` parametresinin 1 olarak seçildiğini gördük. Peki bundan daha iyi bir `C` değeri (örn: 0.2) olabilir miydi? GridSearchCV, bu soruyu cevaplamak için 0.1, 10 ve 100 gibi daha farklı değerlerle tekrar denemek zorunda kalırdı.\n",
    "\n",
    "<br>\n",
    "\n",
    "- GridSearch ve RandomSearch, parametreler arasındaki ilişkileri dikkate almaz (uninformative). Bu yüzden, `C` parametresinin 1 olduğu durumda, `gamma` parametresinin `scale` olması daha iyi bir sonuç verebilir. GridSearch ve RandomSearch, bu durumu göz ardı eder ve `C` parametresinin 1 olduğu durumda `gamma` parametresinin `auto` olması için deneme yapar.\n",
    "\n",
    "<br>\n",
    "\n",
    "- Her hiperparametre, modelin performansını aynı düzeyde etkilemez. Bayesian Optimizasyon ise bu ilişkileri göz önünde bulundurup, her parametrenin modeli ne kadar etkilediği ile ilgili çıkarım yaparak kombinasyonlar üretir. Yani belli set parametrelerinin verdiği performans değerine bakarak bir sonraki iterasyonda hangi parametrelerin değiştirilmesi gerektiğini belirlemeye çalışır."
   ],
   "metadata": {
    "collapsed": false
   }
  },
  {
   "cell_type": "code",
   "execution_count": 11,
   "metadata": {
    "colab": {
     "base_uri": "https://localhost:8080/"
    },
    "id": "XbU62F-C7yxN",
    "outputId": "8cd53cf5-cad8-4bd7-85cd-9f69b425334a"
   },
   "outputs": [
    {
     "name": "stdout",
     "output_type": "stream",
     "text": [
      "Fitting 3 folds for each of 30 candidates, totalling 90 fits\n",
      "Time taken:  10.421259641647339\n"
     ]
    }
   ],
   "source": [
    "# RandomizedSearchCV\n",
    "time_rand = time.time()\n",
    "\n",
    "random_search = RandomizedSearchCV(pipeline,\n",
    "                                   hyperparameters,\n",
    "                                   scoring='accuracy',\n",
    "                                   cv=3,\n",
    "                                   n_iter=30,\n",
    "                                   n_jobs=-1,\n",
    "                                   verbose=1,\n",
    "                                   random_state=42)\n",
    "random_search.fit(X_train, y_train)\n",
    "print(\"Time taken: \", time.time() - time_rand)\n",
    "\n",
    "best_random_params = random_search.best_params_\n",
    "best_random_pipeline = random_search.best_estimator_\n",
    "\n",
    "random_search_accuracy = best_random_pipeline.score(X_test, y_test)"
   ]
  },
  {
   "cell_type": "code",
   "execution_count": 12,
   "metadata": {
    "colab": {
     "base_uri": "https://localhost:8080/"
    },
    "id": "oqVYy3CX87XW",
    "outputId": "0e73be32-675a-47c4-d73a-0280d516bf20"
   },
   "outputs": [
    {
     "data": {
      "text/plain": [
       "{'svc__kernel': 'rbf', 'svc__gamma': 'auto', 'svc__degree': 3, 'svc__C': 1}"
      ]
     },
     "execution_count": 12,
     "metadata": {},
     "output_type": "execute_result"
    }
   ],
   "source": [
    "best_random_params"
   ]
  },
  {
   "cell_type": "markdown",
   "source": [
    "### Optuna ile Bayesian Optimizasyon\n",
    "\n",
    "- Her sayısal parametre için bir aralık belirleriz. Optuna, bu aralıkta rastgele bir değer seçer ve bu değerlerle modeli eğitir. Eğitim sonucunda elde edilen performans değerine bağlı olarak ve parametre ilişkileri göz önünde bulundurularak, bir sonraki parametre değerlerinin seçilmesi için bir öneri (trial) yapılır."
   ],
   "metadata": {
    "collapsed": false
   }
  },
  {
   "cell_type": "code",
   "execution_count": 13,
   "metadata": {
    "colab": {
     "base_uri": "https://localhost:8080/"
    },
    "id": "0EaGbjHr7yxO",
    "outputId": "38d3b090-11ff-4199-d715-ad877633adec"
   },
   "outputs": [
    {
     "name": "stdout",
     "output_type": "stream",
     "text": [
      "Time taken:  8.100722551345825\n"
     ]
    }
   ],
   "source": [
    "def objective(trial):\n",
    "    C = trial.suggest_float(\"svc__C\", 0.001, 10, log=True)\n",
    "\n",
    "    # Kategorik parametreler için sadece belirli değerler seçilebilir.\n",
    "    kernel = trial.suggest_categorical(\"svc__kernel\", ['linear', 'rbf', 'poly'])\n",
    "    \n",
    "    if kernel == 'poly':\n",
    "        degree = trial.suggest_int(\"svc__degree\", 2, 4)\n",
    "    else:\n",
    "        degree = 3\n",
    "        \n",
    "    if kernel in ['rbf', 'poly']:\n",
    "        gamma = trial.suggest_categorical(\"svc__gamma\", ['scale', 'auto'])\n",
    "    else:\n",
    "        gamma = 'scale'\n",
    "\n",
    "    pipeline = Pipeline([\n",
    "        ('svc', SVC(C=C, kernel=kernel, degree=degree, gamma=gamma))\n",
    "    ])\n",
    "\n",
    "    cv_scores = cross_val_score(pipeline, \n",
    "                                X_train,\n",
    "                                y_train,\n",
    "                                scoring='accuracy',\n",
    "                                cv=3, \n",
    "                                n_jobs=-1)\n",
    "    return np.mean(cv_scores)\n",
    "\n",
    "# Optuna\n",
    "optuna.logging.set_verbosity(optuna.logging.WARNING)\n",
    "\n",
    "study = optuna.create_study(direction=\"maximize\")\n",
    "\n",
    "time_opt = time.time()\n",
    "\n",
    "study.optimize(objective, n_trials=20)\n",
    "print(\"Time taken: \", time.time() - time_opt)\n",
    "\n",
    "best_optuna_params = study.best_trial.params\n",
    "\n",
    "best_optuna_pipeline = Pipeline([\n",
    "    ('svc', SVC(C=best_optuna_params['svc__C'], kernel=best_optuna_params['svc__kernel'], degree=best_optuna_params.get('svc__degree', 3), gamma=best_optuna_params.get('svc__gamma', \"scale\")))\n",
    "])\n",
    "\n",
    "best_optuna_pipeline.fit(X_train, y_train)\n",
    "optuna_search_accuracy = best_optuna_pipeline.score(X_test, y_test)"
   ]
  },
  {
   "cell_type": "code",
   "execution_count": 17,
   "metadata": {
    "colab": {
     "base_uri": "https://localhost:8080/"
    },
    "id": "AB8TTnkK88p1",
    "outputId": "9d754b37-550e-43bc-b1f0-03fd9f1f5db0"
   },
   "outputs": [
    {
     "data": {
      "text/plain": [
       "{'svc__C': 1.6225947346767138, 'svc__kernel': 'rbf', 'svc__gamma': 'auto'}"
      ]
     },
     "execution_count": 17,
     "metadata": {},
     "output_type": "execute_result"
    }
   ],
   "source": [
    "# C değeri 1.0 değil, 1.62 olarak seçildi.\n",
    "best_optuna_params"
   ]
  },
  {
   "cell_type": "code",
   "execution_count": 18,
   "metadata": {
    "colab": {
     "base_uri": "https://localhost:8080/"
    },
    "id": "xZhdbwjD7yxP",
    "outputId": "4ec5e953-79b8-49c1-a12b-adfa73fe0d3c"
   },
   "outputs": [
    {
     "name": "stdout",
     "output_type": "stream",
     "text": [
      "Grid search accuracy: 0.695\n",
      "Random search accuracy: 0.695\n",
      "Optuna search accuracy: 0.703\n"
     ]
    }
   ],
   "source": [
    "print(\"Grid search accuracy:\", grid_search_accuracy)\n",
    "print(\"Random search accuracy:\", random_search_accuracy)\n",
    "print(\"Optuna search accuracy:\", optuna_search_accuracy)"
   ]
  },
  {
   "cell_type": "code",
   "execution_count": 19,
   "metadata": {
    "id": "cpEoXt4S7yxQ"
   },
   "outputs": [
    {
     "data": {
      "image/png": "[encoded data removed]",
      "text/plain": [
       "<Figure size 1152x864 with 1 Axes>"
      ]
     },
     "metadata": {
      "needs_background": "light"
     },
     "output_type": "display_data"
    }
   ],
   "source": [
    "import matplotlib.pyplot as plt\n",
    "\n",
    "methods = ['Grid Search', 'Random Search', 'Optuna']\n",
    "accuracy_scores = [grid_search_accuracy, random_search_accuracy, optuna_search_accuracy]\n",
    "\n",
    "fig, ax = plt.subplots(figsize = (16, 12))\n",
    "bar_plot = ax.bar(methods, accuracy_scores)\n",
    "\n",
    "for bar in bar_plot:\n",
    "    height = bar.get_height()\n",
    "    ax.annotate(\n",
    "        f'{height:.4f}',\n",
    "        xy=(bar.get_x() + bar.get_width() / 2, height),\n",
    "        xytext=(0, 3),\n",
    "        textcoords='offset points',\n",
    "        ha='center',\n",
    "        va='bottom', fontsize=16\n",
    "    )\n",
    "\n",
    "ax.set_title('Methodların Karşılaştırılması', fontsize=18)\n",
    "ax.set_ylabel('Accuracy', fontsize=14)\n",
    "ax.set_xlabel('Model', fontsize=14)\n",
    "\n",
    "plt.show()"
   ]
  }
 ],
 "metadata": {
  "accelerator": "GPU",
  "colab": {
   "gpuType": "T4",
   "provenance": []
  },
  "gpuClass": "standard",
  "kernelspec": {
   "display_name": "Python 3 (ipykernel)",
   "language": "python",
   "name": "python3"
  },
  "language_info": {
   "codemirror_mode": {
    "name": "ipython",
    "version": 3
   },
   "file_extension": ".py",
   "mimetype": "text/x-python",
   "name": "python",
   "nbconvert_exporter": "python",
   "pygments_lexer": "ipython3",
   "version": "3.9.13"
  }
 },
 "nbformat": 4,
 "nbformat_minor": 1
}
