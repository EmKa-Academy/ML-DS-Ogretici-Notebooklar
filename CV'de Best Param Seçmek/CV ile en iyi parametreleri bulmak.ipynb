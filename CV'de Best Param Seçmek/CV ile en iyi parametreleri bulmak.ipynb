{
 "cells": [
  {
   "cell_type": "markdown",
   "metadata": {},
   "source": [
    "# CV ile En İyi Hiperparametreler?\n",
    "* Her zaman best_params'ı mı almalıyız?\n",
    "\n",
    "* Bu notebookta klasik bir seçim olan RandomSearchCV incelenmiştir. Optuna gibi daha sofistik yöntemler daha sonra incelenecektir.\n",
    "\n",
    "## Hazırlayan: https://github.com/Frightera"
   ]
  },
  {
   "cell_type": "code",
   "execution_count": null,
   "metadata": {
    "colab": {
     "base_uri": "https://localhost:8080/"
    },
    "id": "21ut0JTycwof",
    "outputId": "93fd953d-fc8b-4f48-ddae-c5b4e564ed52"
   },
   "outputs": [],
   "source": [
    "import numpy as np\n",
    "\n",
    "from sklearn.datasets import make_regression\n",
    "from sklearn.model_selection import train_test_split, KFold, RandomizedSearchCV\n",
    "\n",
    "from sklearn.ensemble import RandomForestRegressor\n",
    "from sklearn.metrics import mean_squared_error, make_scorer\n",
    "\n",
    "from scipy.stats import t as t_dist"
   ]
  },
  {
   "cell_type": "code",
   "execution_count": null,
   "metadata": {},
   "outputs": [],
   "source": [
    "# 5000 örnek ve 30 feature'dan oluşan regresyon veriseti\n",
    "X, y = make_regression(n_samples=5000, n_features=30, random_state=42)\n",
    "\n",
    "# %80'i train, %20'si test olacak şekilde split edelim.\n",
    "X_train, X_test, y_train, y_test = train_test_split(X, y, test_size=0.2, random_state=42)\n",
    "\n",
    "# CV objesini ayarlayalım.\n",
    "cv = KFold(n_splits=5, shuffle=True, random_state=42)\n",
    "\n",
    "# RandomForest modeli\n",
    "model = RandomForestRegressor(random_state=42)\n",
    "\n",
    "# Bazı parametre aralıklarını belirleyelim.\n",
    "param_grid = {\n",
    "    'max_depth': np.arange(1, 21),\n",
    "    'min_samples_split': np.arange(2, 11),\n",
    "    'min_samples_leaf': np.arange(1, 11),\n",
    "}\n",
    "\n",
    "# CV kullanarak RandomSearch yap.\n",
    "random_search = RandomizedSearchCV(\n",
    "    model,\n",
    "    n_iter=15,\n",
    "    param_distributions=param_grid,\n",
    "    cv=cv,\n",
    "    scoring=make_scorer(mean_squared_error, greater_is_better=False),\n",
    "    n_jobs=-1,\n",
    "    verbose=1\n",
    ")\n",
    "\n",
    "# Tuning işlemini başlat\n",
    "random_search.fit(X_train, y_train)\n",
    "\n",
    "# En iyi parametre ve skorları al.\n",
    "best_params = random_search.best_params_\n",
    "best_score = -random_search.best_score_\n",
    "\n",
    "print(f\"Best parameters: {best_params}\")\n",
    "# {'min_samples_split': 2, 'min_samples_leaf': 1, 'max_depth': 12}\n",
    "\n",
    "print(f\"Best mean squared error: {best_score}\") # 5856.025\n",
    "\n",
    "# En iyi modeli test datasında dene\n",
    "best_model = random_search.best_estimator_\n",
    "test_preds = best_model.predict(X_test)\n",
    "test_mse = mean_squared_error(y_test, test_preds)\n",
    "\n",
    "print(f\"Test MSE: {test_mse}\") # 5555.029"
   ]
  },
  {
   "cell_type": "code",
   "execution_count": 72,
   "metadata": {
    "colab": {
     "base_uri": "https://localhost:8080/"
    },
    "id": "EzaLyZS-D1N7",
    "outputId": "bf2be955-47f7-4b09-d33b-0ca875e065ca",
    "scrolled": true
   },
   "outputs": [
    {
     "name": "stdout",
     "output_type": "stream",
     "text": [
      "Params: {'min_samples_split': 2, 'min_samples_leaf': 1, 'max_depth': 12}\n",
      "  Mean MSE: 5856.025745117241\n",
      "  Std MSE: 195.61486368213548\n",
      "  95% Confidence Interval: [5613.1378113695955, 6098.913678864887]\n",
      "\n",
      "Params: {'min_samples_split': 7, 'min_samples_leaf': 1, 'max_depth': 17}\n",
      "  Mean MSE: 5858.122492576592\n",
      "  Std MSE: 189.81267439392056\n",
      "  95% Confidence Interval: [5622.438928378887, 6093.806056774297]\n",
      "\n",
      "Params: {'min_samples_split': 9, 'min_samples_leaf': 2, 'max_depth': 19}\n",
      "  Mean MSE: 5873.073266837842\n",
      "  Std MSE: 202.64119093200762\n",
      "  95% Confidence Interval: [5621.4609955044325, 6124.685538171252]\n",
      "\n",
      "Params: {'min_samples_split': 5, 'min_samples_leaf': 1, 'max_depth': 11}\n",
      "  Mean MSE: 5936.989487866667\n",
      "  Std MSE: 181.7739650235231\n",
      "  95% Confidence Interval: [5711.287299686208, 6162.691676047127]\n",
      "\n",
      "Params: {'min_samples_split': 9, 'min_samples_leaf': 4, 'max_depth': 17}\n",
      "  Mean MSE: 5949.826554113563\n",
      "  Std MSE: 193.03137600342473\n",
      "  95% Confidence Interval: [5710.146444006376, 6189.50666422075]\n",
      "\n",
      "Params: {'min_samples_split': 9, 'min_samples_leaf': 5, 'max_depth': 19}\n",
      "  Mean MSE: 6041.4987533066205\n",
      "  Std MSE: 204.70784412875898\n",
      "  95% Confidence Interval: [5787.3203931020325, 6295.6771135112085]\n",
      "\n",
      "Params: {'min_samples_split': 6, 'min_samples_leaf': 6, 'max_depth': 11}\n",
      "  Mean MSE: 6190.248809341435\n",
      "  Std MSE: 219.2036635396918\n",
      "  95% Confidence Interval: [5918.071512049828, 6462.426106633042]\n",
      "\n",
      "Params: {'min_samples_split': 9, 'min_samples_leaf': 8, 'max_depth': 10}\n",
      "  Mean MSE: 6485.24997044227\n",
      "  Std MSE: 213.68419279277254\n",
      "  95% Confidence Interval: [6219.926001266252, 6750.573939618288]\n",
      "\n",
      "Params: {'min_samples_split': 8, 'min_samples_leaf': 10, 'max_depth': 14}\n",
      "  Mean MSE: 6722.280687456087\n",
      "  Std MSE: 223.11526015315664\n",
      "  95% Confidence Interval: [6445.2465014740455, 6999.314873438129]\n",
      "\n",
      "Params: {'min_samples_split': 4, 'min_samples_leaf': 5, 'max_depth': 8}\n",
      "  Mean MSE: 6895.002936635351\n",
      "  Std MSE: 207.64258902376693\n",
      "  95% Confidence Interval: [6637.180609350719, 7152.825263919983]\n",
      "\n",
      "Params: {'min_samples_split': 7, 'min_samples_leaf': 8, 'max_depth': 8}\n",
      "  Mean MSE: 7033.2402486042465\n",
      "  Std MSE: 215.5957527159477\n",
      "  95% Confidence Interval: [6765.542764291213, 7300.93773291728]\n",
      "\n",
      "Params: {'min_samples_split': 2, 'min_samples_leaf': 9, 'max_depth': 8}\n",
      "  Mean MSE: 7113.8179247252865\n",
      "  Std MSE: 225.66687020729512\n",
      "  95% Confidence Interval: [6833.615496401566, 7394.020353049007]\n",
      "\n",
      "Params: {'min_samples_split': 8, 'min_samples_leaf': 5, 'max_depth': 6}\n",
      "  Mean MSE: 9178.03170835456\n",
      "  Std MSE: 162.59625340678215\n",
      "  95% Confidence Interval: [8976.141794256542, 9379.921622452577]\n",
      "\n",
      "Params: {'min_samples_split': 2, 'min_samples_leaf': 10, 'max_depth': 6}\n",
      "  Mean MSE: 9212.4215717761\n",
      "  Std MSE: 186.83468323796475\n",
      "  95% Confidence Interval: [8980.435671983714, 9444.407471568486]\n",
      "\n",
      "Params: {'min_samples_split': 8, 'min_samples_leaf': 8, 'max_depth': 1}\n",
      "  Mean MSE: 25865.820706625294\n",
      "  Std MSE: 439.7585701683953\n",
      "  95% Confidence Interval: [25319.788322145632, 26411.853091104957]\n",
      "\n"
     ]
    }
   ],
   "source": [
    "# mean_test_score'a göre CV skorlarını küçükten büyüğe sırala\n",
    "sorted_results = sorted(zip(cv_results['params'], cv_results['mean_test_score'], \n",
    "                            cv_results['std_test_score']), key=lambda x: x[1], reverse=True)\n",
    "\n",
    "# --> Neden t-distribution kullandık?\n",
    "# Küçük bir örneklem boyutuyla (çapraz doğrulamadaki kat sayısı) çalıştığımız ve \n",
    "# gerçek popülasyon standart sapmasını bilmediğimiz için t-dağılımı kullanıldı. \n",
    "# Küçük örneklem büyüklükleri ve bilinmeyen popülasyon parametreleri ile çalışırken, \n",
    "# t-dağılımı, güven aralıkları için normal (Gauss) dağılımdan daha iyi bir yaklaşım sağlar.\n",
    "# Bizim durumumuzda, çapraz doğrulamada 5 kat ile çalıştığımız için, örneklem boyutu küçüktür ve \n",
    "# ortalama karesel hatanın %95 güven aralığını hesaplamak için t dağılımını kullanmak daha uygundur.\n",
    "\n",
    "# --> Burada gerçek popülasyondan kastın nedir?\n",
    "# Bu durumda, \"gerçek popülasyon\", modeli tüm olası eğitim ve doğrulama kümeleri \n",
    "# kombinasyonlarında değerlendirebilseydik elde edilebilecek olası model performans \n",
    "# ölçümlerinin (örneğin, ortalama karesel hata) tam kümesini ifade eder. Bu pratik \n",
    "# olarak imkansız olduğundan, modelin görünmeyen veriler üzerindeki performansını \n",
    "# tahmin etmek için bir yaklaşım yöntemi olarak çapraz doğrulama kullanıyoruz.\n",
    "alpha = 0.05\n",
    "n_splits = cv.get_n_splits()\n",
    "critical_value = t_dist.ppf(1 - alpha / 2, n_splits - 1)\n",
    "\n",
    "for params, mean_mse, std_mse in sorted_results:\n",
    "    # Standard error'u hesapla\n",
    "    sem = std_mse / np.sqrt(n_splits)\n",
    "\n",
    "    # %95'lik confidence interval hesapla\n",
    "    lower_bound = -mean_mse - critical_value * sem\n",
    "    upper_bound = -mean_mse + critical_value * sem\n",
    "\n",
    "    print(f\"Params: {params}\")\n",
    "    print(f\"  Mean MSE: {-mean_mse}\")\n",
    "    print(f\"  Std MSE: {std_mse}\")\n",
    "    print(f\"  95% Confidence Interval: [{lower_bound}, {upper_bound}]\\n\")"
   ]
  },
  {
   "cell_type": "markdown",
   "metadata": {},
   "source": [
    "## Bazı Parametrelerle Modelleri Yeniden Fit Edelim\n",
    "\n",
    "### En iyi parametreler"
   ]
  },
  {
   "cell_type": "code",
   "execution_count": 74,
   "metadata": {
    "colab": {
     "base_uri": "https://localhost:8080/"
    },
    "id": "UbJwpmpSJxe7",
    "outputId": "0a5c2380-3b68-4c34-f367-a42a99ed4f59"
   },
   "outputs": [
    {
     "name": "stdout",
     "output_type": "stream",
     "text": [
      "Test MSE: 5555.0299165158785\n",
      "Train MSE: 878.3674882489294\n"
     ]
    }
   ],
   "source": [
    "params = {'min_samples_split': 2, 'min_samples_leaf': 1, 'max_depth': 12}\n",
    "\n",
    "model = RandomForestRegressor(random_state=42, **params)\n",
    "\n",
    "model.fit(X_train, y_train)\n",
    "\n",
    "test_preds = model.predict(X_test)\n",
    "test_mse = mean_squared_error(y_test, test_preds)\n",
    "train_mse = mean_squared_error(y_train, model.predict(X_train))\n",
    "\n",
    "print(f\"Test MSE: {test_mse}\")\n",
    "print(f\"Train MSE: {train_mse}\")"
   ]
  },
  {
   "cell_type": "markdown",
   "metadata": {},
   "source": [
    "### En iyi 2.parametreler"
   ]
  },
  {
   "cell_type": "code",
   "execution_count": 73,
   "metadata": {
    "colab": {
     "base_uri": "https://localhost:8080/"
    },
    "id": "zrgEGhcmEARn",
    "outputId": "2fa36587-7066-476c-8d21-4e333101e268"
   },
   "outputs": [
    {
     "name": "stdout",
     "output_type": "stream",
     "text": [
      "Test MSE: 5510.2412353180825\n",
      "Train MSE: 1055.2659972931892\n"
     ]
    }
   ],
   "source": [
    "params = {'min_samples_split': 7, 'min_samples_leaf': 1, 'max_depth': 17}\n",
    "\n",
    "model = RandomForestRegressor(random_state=42, **params)\n",
    "\n",
    "model.fit(X_train, y_train)\n",
    "\n",
    "test_preds = model.predict(X_test)\n",
    "test_mse = mean_squared_error(y_test, test_preds)\n",
    "train_mse = mean_squared_error(y_train, model.predict(X_train))\n",
    "\n",
    "print(f\"Test MSE: {test_mse}\")\n",
    "print(f\"Train MSE: {train_mse}\")"
   ]
  },
  {
   "cell_type": "markdown",
   "metadata": {},
   "source": [
    "### Std en düşük parametreler"
   ]
  },
  {
   "cell_type": "code",
   "execution_count": 66,
   "metadata": {
    "colab": {
     "base_uri": "https://localhost:8080/"
    },
    "id": "ENL2HSlXKXwp",
    "outputId": "996554e1-2f21-4bdd-9a7d-18f550b9214d"
   },
   "outputs": [
    {
     "name": "stdout",
     "output_type": "stream",
     "text": [
      "Test MSE: 5646.224568847524\n",
      "Train MSE: 1142.5695931930002\n"
     ]
    }
   ],
   "source": [
    "params = {'min_samples_split': 5, 'min_samples_leaf': 1, 'max_depth': 11}\n",
    "\n",
    "model = RandomForestRegressor(random_state=42, **params)\n",
    "\n",
    "model.fit(X_train, y_train)\n",
    "\n",
    "test_preds = model.predict(X_test)\n",
    "test_mse = mean_squared_error(y_test, test_preds)\n",
    "train_mse = mean_squared_error(y_train, model.predict(X_train))\n",
    "\n",
    "print(f\"Test MSE: {test_mse}\")\n",
    "print(f\"Train MSE: {train_mse}\")"
   ]
  },
  {
   "cell_type": "markdown",
   "metadata": {},
   "source": [
    "## Yorumlar\n",
    "\n",
    "### En iyi parametreleri uygularken, farklı farklı kriterlere bakmak önemli olabilir.\n",
    " * #### CV Foldlarındaki ortalama değer\n",
    " * #### CV Foldlarındaki skorun standart sapması\n",
    " \n",
    "\n",
    "#### Genel Açıklama\n",
    "Pratikte veya gerçek hayat uygulamarında, en iyi modeli seçerken yalnızca ortalama performansı değil aynı zamanda performanstaki değişkenliği (örn. standart sapma) ve model karmaşıklığı, eğitim süresi ve yorumlanabilirlik gibi diğer faktörleri de dikkate almak önemlidir. \n",
    "\n",
    "Şuanda, cross-validation uyguladığımız çalışmada daha düşük standart sapmaya sahip ikinci en iyi parametreler foldlar arasında daha tutarlı performans ve test veri setine daha iyi genelleme gösterdiği için daha uygun bir seçim olabilir."
   ]
  },
  {
   "cell_type": "code",
   "execution_count": null,
   "metadata": {},
   "outputs": [],
   "source": []
  }
 ],
 "metadata": {
  "colab": {
   "name": "Colaboratory'ye Hoş Geldiniz",
   "provenance": []
  },
  "kernelspec": {
   "display_name": "Python 3 (ipykernel)",
   "language": "python",
   "name": "python3"
  },
  "language_info": {
   "codemirror_mode": {
    "name": "ipython",
    "version": 3
   },
   "file_extension": ".py",
   "mimetype": "text/x-python",
   "name": "python",
   "nbconvert_exporter": "python",
   "pygments_lexer": "ipython3",
   "version": "3.9.13"
  }
 },
 "nbformat": 4,
 "nbformat_minor": 1
}
